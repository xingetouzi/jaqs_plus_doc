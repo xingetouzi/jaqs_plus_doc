{
 "cells": [
  {
   "cell_type": "markdown",
   "metadata": {},
   "source": [
    "# Optimizer\n",
    "Optimizer是optimizer模块中的一个核心类，提供了因子算法参数优化的功能\n",
    "\n",
    "*** 步骤 ***\n",
    "1. 实例化Optimizer\n",
    "2. 进行因子计算和参数优化"
   ]
  },
  {
   "cell_type": "markdown",
   "metadata": {},
   "source": [
    "# step 1 实例化Optimizer\n",
    "\n",
    "## __init__\n",
    "\n",
    "- ` jaqs.research.signaldigger.optimizer.Optimizer.__init__(*args, **kwargs) `\n",
    "\n",
    "**简要描述：**\n",
    "\n",
    "- 初始化Optimizer\n",
    "\n",
    "**参数：**\n",
    "\n",
    "\n",
    "|参数名|必选|类型|说明|\n",
    "|:----    |:---|:----- |-----   |\n",
    "|dataview|是 |jaqs.data.Dataview|包含了因子相关的所有标的证券及因子计算所要用到的所有字段的数据集|\n",
    "|formula|否 |string|需要优化的公式：如'(open - Delay(close, l1)) / Delay(close, l2)'|\n",
    "|params|否 |dict|需要优化的参数范围：如{\"LEN1\"：range(1,10,1),\"LEN2\":range(1,10,1)}|\n",
    "|name|否 |string|信号的名称|\n",
    "|price |是，price与ret二选一  |pandas.DataFrame|因子涉及到的股票的价格数据，用于作为进出场价用于计算收益,日期为索引，股票品种为columns|\n",
    "|ret |是，price与ret二选一  |pandas.DataFrame| 因子涉及到的股票的持有期收益，日期为索引，股票品种为columns|\n",
    "|benchmark_price | 否  |pandas.DataFrame or pandas.Series|基准价格，日期为索引。在price参数不为空的情况下，该参数生效，用于计算因子涉及到的股票的持有期**相对收益**--相对基准。默认为空，为空时计算的收益为**绝对收益**。|\n",
    "|high |否  |pandas.DataFrame|因子涉及到的股票的最高价数据,用于计算持有期潜在最大上涨收益,日期为索引，股票品种为columns,默认为空|\n",
    "|low |否  |pandas.DataFrame|因子涉及到的股票的最低价数据,用于计算持有期潜在最大下跌收益,日期为索引，股票品种为columns,默认为空|\n",
    "|period |否  |int|持有周期,默认为5,即持有5天|\n",
    "|n_quantiles |否  |int|根据每日因子值的大小分成n_quantiles组,默认为5,即将因子每天分成5组|\n",
    "|mask |否  |pandas.DataFrame|一张由bool值组成的表格,日期为索引，股票品种为columns，表示在做因子分析时是否要对某期的某个品种过滤。对应位置为True则**过滤**（剔除）——不纳入因子分析考虑。默认为空，不执行过滤操作|\n",
    "|can_enter |否  |pandas.DataFrame|一张由bool值组成的表格,日期为索引，股票品种为columns，表示某期的某个品种是否可以买入(进场)。对应位置为True则可以买入。默认为空，任何时间任何品种均可买入|\n",
    "|can_exit |否  |pandas.DataFrame|一张由bool值组成的表格,日期为索引，股票品种为columns，表示某期的某个品种是否可以卖出(出场)。对应位置为True则可以卖出。默认为空，任何时间任何品种均可卖出|\n",
    "|forward |否  |bool|收益对齐方式,forward=True则在当期因子下对齐下一期实现的收益；forward=False则在当期实现收益下对齐上一期的因子值。默认为True|\n",
    "|commission |否 |float|手续费比例,每次换仓收取的手续费百分比,默认为万分之八0.0008|\n",
    "|is_event |否 |bool|是否是事件(0/1因子),默认为否|\n",
    "|is_quarterly |否 |bool|是否是季度因子,默认为否|\n",
    "\n",
    "**示例：**"
   ]
  },
  {
   "cell_type": "code",
   "execution_count": 2,
   "metadata": {
    "collapsed": false
   },
   "outputs": [
    {
     "name": "stdout",
     "output_type": "stream",
     "text": [
      "Dataview loaded successfully.\n"
     ]
    }
   ],
   "source": [
    "from jaqs.research import Optimizer\n",
    "from jaqs.data import DataView\n",
    "\n",
    "# 加载dataview数据集\n",
    "dv = DataView()\n",
    "dataview_folder = './data'\n",
    "dv.load_dataview(dataview_folder)\n",
    "\n",
    "# step 1：实例化Optimizer\n",
    "optimizer = Optimizer(dataview=dv,\n",
    "                      formula='- Correlation(vwap_adj, volume, LEN)',\n",
    "                      params={\"LEN\":range(2,5,1)},\n",
    "                      name='divert',\n",
    "                      price=dv.get_ts('close_adj'),\n",
    "                      high=dv.get_ts('high_adj'),\n",
    "                      low=dv.get_ts('low_adj'),\n",
    "                      benchmark_price=None,#=None求绝对收益 #=price_bench求相对收益\n",
    "                      period=30,\n",
    "                      n_quantiles=5,\n",
    "                      commission=0.0008,#手续费 默认0.0008\n",
    "                      is_event=False,#是否是事件(0/1因子)\n",
    "                      is_quarterly=False)#是否是季度因子 默认为False"
   ]
  },
  {
   "cell_type": "markdown",
   "metadata": {},
   "source": [
    "# step 2 进行因子计算和参数优化\n",
    "\n",
    "## dataview\n",
    "\n",
    "- ` jaqs.research.signaldigger.optimizer.Optimizer.dataview `\n",
    "\n",
    "**简要描述：**\n",
    "\n",
    "- 优化器用到的数据集\n",
    "\n",
    "**示例：**"
   ]
  },
  {
   "cell_type": "code",
   "execution_count": 3,
   "metadata": {
    "collapsed": false
   },
   "outputs": [
    {
     "data": {
      "text/plain": [
       "<jaqs.data.dataview.DataView at 0x7ffb84af1438>"
      ]
     },
     "execution_count": 3,
     "metadata": {},
     "output_type": "execute_result"
    }
   ],
   "source": [
    "optimizer.dataview"
   ]
  },
  {
   "cell_type": "markdown",
   "metadata": {},
   "source": [
    "## formula\n",
    "\n",
    "- ` jaqs.research.signaldigger.optimizer.Optimizer.formula `\n",
    "\n",
    "**简要描述：**\n",
    "\n",
    "- 优化器所优化的因子表达式\n",
    "\n",
    "**示例：**"
   ]
  },
  {
   "cell_type": "code",
   "execution_count": 4,
   "metadata": {
    "collapsed": false
   },
   "outputs": [
    {
     "data": {
      "text/plain": [
       "'- Correlation(vwap_adj, volume, LEN)'"
      ]
     },
     "execution_count": 4,
     "metadata": {},
     "output_type": "execute_result"
    }
   ],
   "source": [
    "optimizer.formula"
   ]
  },
  {
   "cell_type": "markdown",
   "metadata": {},
   "source": [
    "## params\n",
    "\n",
    "- ` jaqs.research.signaldigger.optimizer.Optimizer.params `\n",
    "\n",
    "**简要描述：**\n",
    "\n",
    "- 优化器所优化的参数范围\n",
    "\n",
    "**示例：**"
   ]
  },
  {
   "cell_type": "code",
   "execution_count": 5,
   "metadata": {
    "collapsed": false
   },
   "outputs": [
    {
     "data": {
      "text/plain": [
       "{'LEN': range(2, 5)}"
      ]
     },
     "execution_count": 5,
     "metadata": {},
     "output_type": "execute_result"
    }
   ],
   "source": [
    "optimizer.params"
   ]
  },
  {
   "cell_type": "markdown",
   "metadata": {},
   "source": [
    "## name\n",
    "\n",
    "- ` jaqs.research.signaldigger.optimizer.Optimizer.name `\n",
    "\n",
    "**简要描述：**\n",
    "\n",
    "- 优化器所优化的信号名称\n",
    "\n",
    "**示例：**"
   ]
  },
  {
   "cell_type": "code",
   "execution_count": 6,
   "metadata": {
    "collapsed": false
   },
   "outputs": [
    {
     "data": {
      "text/plain": [
       "'divert'"
      ]
     },
     "execution_count": 6,
     "metadata": {},
     "output_type": "execute_result"
    }
   ],
   "source": [
    "optimizer.name"
   ]
  },
  {
   "cell_type": "markdown",
   "metadata": {},
   "source": [
    "## period\n",
    "\n",
    "- ` jaqs.research.signaldigger.optimizer.Optimizer.period `\n",
    "\n",
    "**简要描述：**\n",
    "\n",
    "- 待优化因子所指定的调仓周期\n",
    "\n",
    "**示例：**"
   ]
  },
  {
   "cell_type": "code",
   "execution_count": 7,
   "metadata": {
    "collapsed": false
   },
   "outputs": [
    {
     "data": {
      "text/plain": [
       "30"
      ]
     },
     "execution_count": 7,
     "metadata": {},
     "output_type": "execute_result"
    }
   ],
   "source": [
    "optimizer.period"
   ]
  },
  {
   "cell_type": "markdown",
   "metadata": {},
   "source": [
    "## all_signals\n",
    "\n",
    "- ` jaqs.research.signaldigger.optimizer.Optimizer.all_signals `\n",
    "\n",
    "**简要描述：**\n",
    "\n",
    "- 不同参数下计算得到的signal_data(关于signal_data的定义,详见文档digger部分-signal_data)所组成的字典\n",
    "- 在初始化Optimizer实例时指定了formula和params后，可以通过Optimizer.get_all_signals()计算不同参数下该公式算得的所有因子值；也可以手动指定\n",
    "\n",
    "**示例：**"
   ]
  },
  {
   "cell_type": "code",
   "execution_count": 9,
   "metadata": {
    "collapsed": false
   },
   "outputs": [
    {
     "name": "stdout",
     "output_type": "stream",
     "text": [
      "None\n"
     ]
    }
   ],
   "source": [
    "print(optimizer.all_signals)"
   ]
  },
  {
   "cell_type": "markdown",
   "metadata": {},
   "source": [
    "## get_all_signals\n",
    "\n",
    "- ` jaqs.research.signaldigger.optimizer.Optimizer.get_all_signals() `\n",
    "\n",
    "**简要描述：**\n",
    "\n",
    "- 通过Optimizer.get_all_signals()计算不同参数下该公式算得的所有因子值，并更新Optimizer.all_signals属性\n",
    "\n",
    "**示例：**"
   ]
  },
  {
   "cell_type": "code",
   "execution_count": 11,
   "metadata": {
    "collapsed": false
   },
   "outputs": [],
   "source": [
    "optimizer.get_all_signals()"
   ]
  },
  {
   "cell_type": "code",
   "execution_count": 13,
   "metadata": {
    "collapsed": false
   },
   "outputs": [
    {
     "name": "stdout",
     "output_type": "stream",
     "text": [
      "dict_keys([\"divert{'LEN': 2}\", \"divert{'LEN': 3}\", \"divert{'LEN': 4}\"])\n",
      "                      signal    return  upside_ret  downside_ret  quantile\n",
      "trade_date symbol                                                         \n",
      "20170503   000001.SZ     1.0  0.011546    0.041849     -0.042326         4\n",
      "           000002.SZ    -1.0  0.109486    0.208108     -1.000800         3\n",
      "           000008.SZ    -1.0 -0.071442    0.000463     -0.135901         2\n",
      "           000009.SZ    -1.0 -0.089585    0.009714     -0.170193         2\n",
      "           000027.SZ    -1.0 -0.016835    0.075002     -0.082433         3\n"
     ]
    }
   ],
   "source": [
    "print(optimizer.all_signals.keys())\n",
    "print(optimizer.all_signals[\"divert{'LEN': 2}\"].head())"
   ]
  },
  {
   "cell_type": "markdown",
   "metadata": {},
   "source": [
    "## all_signals_perf\n",
    "\n",
    "- ` jaqs.research.signaldigger.optimizer.Optimizer.all_signals_perf `\n",
    "\n",
    "**简要描述：**\n",
    "\n",
    "- 不同参数下计算得到的signal_data(关于signal_data的定义,详见文档digger部分-signal_data)的绩效表现所组成的字典\n",
    "- 在Optimizer.all_signals不为空的情况下，可以通过Optimizer.get_all_signals_perf()计算Optimizer.all_signals中不同因子的表现；\n",
    "- 在执行过Optimizer.get_all_signals_perf()后才能获取\n",
    "\n",
    "**返回:**\n",
    "\n",
    "dict of performance - 不同因子表现所组成的字典\n",
    "其中每个performance（因子表现）也是一个字典，由ic、ret、space三个key构成，分别对应ic分析表、收益分析表、潜在收益空间分析表(关于这三张表的说明，详见文档-analysis)\n",
    "\n",
    "**示例：**"
   ]
  },
  {
   "cell_type": "code",
   "execution_count": 14,
   "metadata": {
    "collapsed": false
   },
   "outputs": [
    {
     "name": "stdout",
     "output_type": "stream",
     "text": [
      "None\n"
     ]
    }
   ],
   "source": [
    "print(optimizer.all_signals_perf)"
   ]
  },
  {
   "cell_type": "markdown",
   "metadata": {},
   "source": [
    "## get_all_signals_perf\n",
    "\n",
    "- ` jaqs.research.signaldigger.optimizer.Optimizer.get_all_signals_perf(in_sample_range=None) `\n",
    "\n",
    "**简要描述：**\n",
    "\n",
    "- 在Optimizer.all_signals不为空的情况下，通过Optimizer.get_all_signals_perf()计算Optimizer.all_signals中不同因子的表现,并更新Optimizer.all_signals_perf属性；\n",
    "\n",
    "**参数:**\n",
    "\n",
    "|字段|必选|类型|说明|\n",
    "|:----    |:---|:----- |-----   |\n",
    "|in_sample_range |否|list of int|因子表现计算的时间范围,如[20140101,20160101] 表示计算因子表现所涵盖的数据范围只在20140101到20160101之间。默认为None,在全样本上计算因子表现|\n",
    "\n",
    "\n",
    "**示例：**"
   ]
  },
  {
   "cell_type": "code",
   "execution_count": 16,
   "metadata": {
    "collapsed": false
   },
   "outputs": [],
   "source": [
    "optimizer.get_all_signals_perf()"
   ]
  },
  {
   "cell_type": "code",
   "execution_count": 23,
   "metadata": {
    "collapsed": false
   },
   "outputs": [
    {
     "name": "stdout",
     "output_type": "stream",
     "text": [
      "dict_keys([\"divert{'LEN': 2}\", \"divert{'LEN': 3}\", \"divert{'LEN': 4}\"])\n",
      "dict_keys(['ic', 'ret', 'space', 'signal_name'])\n"
     ]
    },
    {
     "data": {
      "text/html": [
       "<div>\n",
       "<style>\n",
       "    .dataframe thead tr:only-child th {\n",
       "        text-align: right;\n",
       "    }\n",
       "\n",
       "    .dataframe thead th {\n",
       "        text-align: left;\n",
       "    }\n",
       "\n",
       "    .dataframe tbody tr th {\n",
       "        vertical-align: top;\n",
       "    }\n",
       "</style>\n",
       "<table border=\"1\" class=\"dataframe\">\n",
       "  <thead>\n",
       "    <tr style=\"text-align: right;\">\n",
       "      <th></th>\n",
       "      <th>return_ic</th>\n",
       "      <th>upside_ret_ic</th>\n",
       "      <th>downside_ret_ic</th>\n",
       "    </tr>\n",
       "  </thead>\n",
       "  <tbody>\n",
       "    <tr>\n",
       "      <th>IC Mean</th>\n",
       "      <td>0.013833</td>\n",
       "      <td>0.003695</td>\n",
       "      <td>0.026912</td>\n",
       "    </tr>\n",
       "    <tr>\n",
       "      <th>IC Std.</th>\n",
       "      <td>0.068939</td>\n",
       "      <td>0.073428</td>\n",
       "      <td>0.070719</td>\n",
       "    </tr>\n",
       "    <tr>\n",
       "      <th>t-stat(IC)</th>\n",
       "      <td>1.592629</td>\n",
       "      <td>0.399464</td>\n",
       "      <td>3.020466</td>\n",
       "    </tr>\n",
       "    <tr>\n",
       "      <th>p-value(IC)</th>\n",
       "      <td>0.116329</td>\n",
       "      <td>0.690924</td>\n",
       "      <td>0.003663</td>\n",
       "    </tr>\n",
       "    <tr>\n",
       "      <th>IC Skew</th>\n",
       "      <td>0.075095</td>\n",
       "      <td>0.085125</td>\n",
       "      <td>0.287215</td>\n",
       "    </tr>\n",
       "    <tr>\n",
       "      <th>IC Kurtosis</th>\n",
       "      <td>-0.776252</td>\n",
       "      <td>-0.609009</td>\n",
       "      <td>0.163704</td>\n",
       "    </tr>\n",
       "    <tr>\n",
       "      <th>Ann. IR</th>\n",
       "      <td>0.200652</td>\n",
       "      <td>0.050328</td>\n",
       "      <td>0.380543</td>\n",
       "    </tr>\n",
       "  </tbody>\n",
       "</table>\n",
       "</div>"
      ],
      "text/plain": [
       "             return_ic  upside_ret_ic  downside_ret_ic\n",
       "IC Mean       0.013833       0.003695         0.026912\n",
       "IC Std.       0.068939       0.073428         0.070719\n",
       "t-stat(IC)    1.592629       0.399464         3.020466\n",
       "p-value(IC)   0.116329       0.690924         0.003663\n",
       "IC Skew       0.075095       0.085125         0.287215\n",
       "IC Kurtosis  -0.776252      -0.609009         0.163704\n",
       "Ann. IR       0.200652       0.050328         0.380543"
      ]
     },
     "execution_count": 23,
     "metadata": {},
     "output_type": "execute_result"
    }
   ],
   "source": [
    "print(optimizer.all_signals_perf.keys())\n",
    "print(optimizer.all_signals_perf[\"divert{'LEN': 2}\"].keys())\n",
    "optimizer.all_signals_perf[\"divert{'LEN': 2}\"][\"ic\"]"
   ]
  },
  {
   "cell_type": "markdown",
   "metadata": {},
   "source": [
    "## enumerate_optimizer\n",
    "\n",
    "- ` jaqs.research.signaldigger.optimizer.Optimizer.enumerate_optimizer(target_type=\"long_ret\",target=\"Ann. IR\",ascending=False,in_sample_range=None) `\n",
    "\n",
    "**简要描述：**\n",
    "\n",
    "- 枚举优化。按照指定的参数优化范围遍历每一种可能性，并给出最佳绩效下的排序结果\n",
    "\n",
    "**参数:**\n",
    "\n",
    "|字段|必选|类型|说明|\n",
    "|:----    |:---|:----- |-----   |\n",
    "|target_type |是|string|待优化的目标类型，有ic类、持有收益类、收益空间类三个大类，下分小类，具体类型见下|\n",
    "|target |是|string|待优化的目标绩效指标，有ic类、持有收益类、收益空间类三个大类，下分小类，具体类型见下|\n",
    "|ascending |否|bool|输出结果是否升序排列，默认为False--降序排列(指标越大排名越前)|\n",
    "|in_sample_range |否|list of int|样本内优化范围 默认为None,在全样本上优化|\n",
    "\n",
    "#### 优化目标的详细介绍\n",
    "目前，所有可优化的目标均围绕analysis模块中提供的三张绩效表——ic分析表、收益分析表、潜在收益空间分析表(关于这三张表的详细定义，参考文档-analysis)。\n",
    "\n",
    "#### target_type:\n",
    "* ic类:\n",
    "  return_ic/upside_ret_ic/downside_ret_ic\n",
    "* 持有收益类\n",
    "  long_ret/short_ret/long_short_ret/top_quantile_ret/bottom_quantile_ret/tmb_ret\n",
    "* 收益空间类\n",
    "  long_space/short_space/long_short_space/top_quantile_space/bottom_quantile_space/tmb_space\n",
    "\n",
    "#### target:\n",
    "* ic类 \n",
    "  \"IC Mean\", \"IC Std.\", \"t-stat(IC)\", \"p-value(IC)\", \"IC Skew\", \"IC Kurtosis\", \"Ann. IR\"\n",
    "* 持有收益类 \n",
    "  't-stat', \"p-value\", \"skewness\", \"kurtosis\", \"Ann. Ret\", \"Ann. Vol\", \"Ann. IR\", \"occurance\"\n",
    "* 收益空间类 \n",
    "  'Up_sp Mean','Up_sp Std','Up_sp IR','Up_sp Pct5', 'Up_sp Pct25 ','Up_sp Pct50 ', 'Up_sp Pct75','Up_sp Pct95','Up_sp Occur','Down_sp Mean','Down_sp Std', 'Down_sp IR', 'Down_sp Pct5','Down_sp Pct25 ','Down_sp Pct50 ','Down_sp Pct75', 'Down_sp Pct95','Down_sp Occur'\n",
    "  \n",
    "  \n",
    "**返回:**\n",
    "\n",
    "list of performance - 绩效的排序结果（只计算了样本内的绩效）\n",
    "其中每个performance（因子表现）是一个字典，由ic、ret、space三个key构成，分别对应ic分析表、收益分析表、潜在收益空间分析表(关于这三张表的说明，详见文档-analysis)\n",
    "\n",
    "\n",
    "**示例：**"
   ]
  },
  {
   "cell_type": "code",
   "execution_count": 22,
   "metadata": {
    "collapsed": true
   },
   "outputs": [],
   "source": [
    "ret_best = optimizer.enumerate_optimizer(target_type=\"top_quantile_ret\",#优化目标类型 \n",
    "                                         target=\"Ann. IR\",#优化目标     \n",
    "                                         in_sample_range=[20170501,20170801],#样本内范围\n",
    "                                         ascending=False)"
   ]
  },
  {
   "cell_type": "code",
   "execution_count": 25,
   "metadata": {
    "collapsed": false
   },
   "outputs": [
    {
     "name": "stdout",
     "output_type": "stream",
     "text": [
      "3\n",
      "dict_keys(['ic', 'ret', 'space', 'signal_name'])\n",
      "divert{'LEN': 3}\n"
     ]
    },
    {
     "data": {
      "text/html": [
       "<div>\n",
       "<style>\n",
       "    .dataframe thead tr:only-child th {\n",
       "        text-align: right;\n",
       "    }\n",
       "\n",
       "    .dataframe thead th {\n",
       "        text-align: left;\n",
       "    }\n",
       "\n",
       "    .dataframe tbody tr th {\n",
       "        vertical-align: top;\n",
       "    }\n",
       "</style>\n",
       "<table border=\"1\" class=\"dataframe\">\n",
       "  <thead>\n",
       "    <tr style=\"text-align: right;\">\n",
       "      <th></th>\n",
       "      <th>long_ret</th>\n",
       "      <th>short_ret</th>\n",
       "      <th>long_short_ret</th>\n",
       "      <th>top_quantile_ret</th>\n",
       "      <th>bottom_quantile_ret</th>\n",
       "      <th>tmb_ret</th>\n",
       "      <th>all_sample_ret</th>\n",
       "    </tr>\n",
       "  </thead>\n",
       "  <tbody>\n",
       "    <tr>\n",
       "      <th>t-stat</th>\n",
       "      <td>13.690192</td>\n",
       "      <td>-16.919173</td>\n",
       "      <td>-3.362264</td>\n",
       "      <td>29.279382</td>\n",
       "      <td>23.340900</td>\n",
       "      <td>2.483257</td>\n",
       "      <td>58.737376</td>\n",
       "    </tr>\n",
       "    <tr>\n",
       "      <th>p-value</th>\n",
       "      <td>0.000000</td>\n",
       "      <td>0.000000</td>\n",
       "      <td>0.001330</td>\n",
       "      <td>0.000000</td>\n",
       "      <td>0.000000</td>\n",
       "      <td>0.015740</td>\n",
       "      <td>0.000000</td>\n",
       "    </tr>\n",
       "    <tr>\n",
       "      <th>skewness</th>\n",
       "      <td>0.182609</td>\n",
       "      <td>-0.003487</td>\n",
       "      <td>0.206518</td>\n",
       "      <td>1.211561</td>\n",
       "      <td>1.265175</td>\n",
       "      <td>0.226588</td>\n",
       "      <td>1.288040</td>\n",
       "    </tr>\n",
       "    <tr>\n",
       "      <th>kurtosis</th>\n",
       "      <td>-0.535175</td>\n",
       "      <td>-0.251135</td>\n",
       "      <td>0.731897</td>\n",
       "      <td>5.011009</td>\n",
       "      <td>4.214267</td>\n",
       "      <td>-0.157311</td>\n",
       "      <td>5.063574</td>\n",
       "    </tr>\n",
       "    <tr>\n",
       "      <th>Ann. Ret</th>\n",
       "      <td>0.332479</td>\n",
       "      <td>-0.301558</td>\n",
       "      <td>-0.058106</td>\n",
       "      <td>0.346004</td>\n",
       "      <td>0.289812</td>\n",
       "      <td>0.055546</td>\n",
       "      <td>0.319609</td>\n",
       "    </tr>\n",
       "    <tr>\n",
       "      <th>Ann. Vol</th>\n",
       "      <td>0.067329</td>\n",
       "      <td>0.049413</td>\n",
       "      <td>0.047911</td>\n",
       "      <td>0.260637</td>\n",
       "      <td>0.275591</td>\n",
       "      <td>0.062013</td>\n",
       "      <td>0.269179</td>\n",
       "    </tr>\n",
       "    <tr>\n",
       "      <th>Ann. IR</th>\n",
       "      <td>4.938110</td>\n",
       "      <td>-6.102817</td>\n",
       "      <td>-1.212783</td>\n",
       "      <td>1.327530</td>\n",
       "      <td>1.051600</td>\n",
       "      <td>0.895721</td>\n",
       "      <td>1.187345</td>\n",
       "    </tr>\n",
       "    <tr>\n",
       "      <th>occurance</th>\n",
       "      <td>63.000000</td>\n",
       "      <td>63.000000</td>\n",
       "      <td>63.000000</td>\n",
       "      <td>3925.000000</td>\n",
       "      <td>3975.000000</td>\n",
       "      <td>63.000000</td>\n",
       "      <td>19742.000000</td>\n",
       "    </tr>\n",
       "  </tbody>\n",
       "</table>\n",
       "</div>"
      ],
      "text/plain": [
       "            long_ret  short_ret  long_short_ret  top_quantile_ret  \\\n",
       "t-stat     13.690192 -16.919173       -3.362264         29.279382   \n",
       "p-value     0.000000   0.000000        0.001330          0.000000   \n",
       "skewness    0.182609  -0.003487        0.206518          1.211561   \n",
       "kurtosis   -0.535175  -0.251135        0.731897          5.011009   \n",
       "Ann. Ret    0.332479  -0.301558       -0.058106          0.346004   \n",
       "Ann. Vol    0.067329   0.049413        0.047911          0.260637   \n",
       "Ann. IR     4.938110  -6.102817       -1.212783          1.327530   \n",
       "occurance  63.000000  63.000000       63.000000       3925.000000   \n",
       "\n",
       "           bottom_quantile_ret    tmb_ret  all_sample_ret  \n",
       "t-stat               23.340900   2.483257       58.737376  \n",
       "p-value               0.000000   0.015740        0.000000  \n",
       "skewness              1.265175   0.226588        1.288040  \n",
       "kurtosis              4.214267  -0.157311        5.063574  \n",
       "Ann. Ret              0.289812   0.055546        0.319609  \n",
       "Ann. Vol              0.275591   0.062013        0.269179  \n",
       "Ann. IR               1.051600   0.895721        1.187345  \n",
       "occurance          3975.000000  63.000000    19742.000000  "
      ]
     },
     "execution_count": 25,
     "metadata": {},
     "output_type": "execute_result"
    }
   ],
   "source": [
    "print(len(ret_best))\n",
    "print(ret_best[0].keys())\n",
    "print(ret_best[0][\"signal_name\"])\n",
    "ret_best[0][\"ret\"]"
   ]
  }
 ],
 "metadata": {
  "anaconda-cloud": {},
  "kernelspec": {
   "display_name": "Python [conda env:IIA]",
   "language": "python",
   "name": "conda-env-IIA-py"
  },
  "language_info": {
   "codemirror_mode": {
    "name": "ipython",
    "version": 3
   },
   "file_extension": ".py",
   "mimetype": "text/x-python",
   "name": "python",
   "nbconvert_exporter": "python",
   "pygments_lexer": "ipython3",
   "version": "3.6.1"
  }
 },
 "nbformat": 4,
 "nbformat_minor": 1
}
